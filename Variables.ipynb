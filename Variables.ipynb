{
 "cells": [
  {
   "cell_type": "markdown",
   "metadata": {},
   "source": [
    "Variables y constantes"
   ]
  },
  {
   "cell_type": "code",
   "execution_count": 10,
   "metadata": {},
   "outputs": [
    {
     "name": "stdout",
     "output_type": "stream",
     "text": [
      "<class 'int'> <class 'float'>\n"
     ]
    }
   ],
   "source": [
    "num_1 = 1024\n",
    "player_y = 1.6\n",
    "print (type(num_1), type (player_y))"
   ]
  },
  {
   "cell_type": "code",
   "execution_count": 11,
   "metadata": {},
   "outputs": [
    {
     "name": "stdout",
     "output_type": "stream",
     "text": [
      "<class 'str'>\n"
     ]
    }
   ],
   "source": [
    "alumnos = \"chamos\"\n",
    "print (type(alumnos))"
   ]
  },
  {
   "cell_type": "code",
   "execution_count": 14,
   "metadata": {},
   "outputs": [
    {
     "name": "stdout",
     "output_type": "stream",
     "text": [
      "hola\n"
     ]
    }
   ],
   "source": [
    "print (\"ho\" + \"la\")"
   ]
  },
  {
   "cell_type": "code",
   "execution_count": 20,
   "metadata": {},
   "outputs": [
    {
     "name": "stdout",
     "output_type": "stream",
     "text": [
      "False\n"
     ]
    }
   ],
   "source": [
    "FONDO = True \n",
    "FONDO = False\n",
    "print (FONDO)"
   ]
  },
  {
   "cell_type": "code",
   "execution_count": 33,
   "metadata": {},
   "outputs": [
    {
     "name": "stdout",
     "output_type": "stream",
     "text": [
      "Bienvenido a mi cuaderno operario pro\n"
     ]
    }
   ],
   "source": [
    "nombre = input (\"ingrese su nombre \")\n",
    "apellido = input (\"ingrese su apellido\")\n",
    "print (\"Bienvenido a mi cuaderno \" + str (nombre) + \" \" + (apellido)) "
   ]
  },
  {
   "cell_type": "markdown",
   "metadata": {},
   "source": [
    "# Condicionales"
   ]
  },
  {
   "cell_type": "markdown",
   "metadata": {},
   "source": [
    "* simples\n",
    "* sentencia alternativa\n",
    "* secuenciales\n",
    "* anidados"
   ]
  },
  {
   "cell_type": "code",
   "execution_count": 39,
   "metadata": {},
   "outputs": [
    {
     "name": "stdout",
     "output_type": "stream",
     "text": [
      "True\n",
      "Tienes 18\n"
     ]
    }
   ],
   "source": [
    "edad = 18\n",
    "print(edad == 18) \n",
    "if edad == 18:\n",
    "    print(\"Tienes 18\")\n",
    "if edad > 18:\n",
    "    print(\"eres mayor de edad\")"
   ]
  },
  {
   "cell_type": "code",
   "execution_count": 42,
   "metadata": {},
   "outputs": [
    {
     "name": "stdout",
     "output_type": "stream",
     "text": [
      "es correcto\n"
     ]
    }
   ],
   "source": [
    "\n",
    "if edad >= 20:\n",
    "    print(\"es correcto\")"
   ]
  },
  {
   "cell_type": "code",
   "execution_count": 2,
   "metadata": {},
   "outputs": [
    {
     "name": "stdout",
     "output_type": "stream",
     "text": [
      "contraseña incorrecta\n"
     ]
    }
   ],
   "source": [
    "contraseña = int(input(\"ingrese su contraseña \"))\n",
    "base_de_datos = 7777\n",
    "\n",
    "if contraseña == base_de_datos:\n",
    "    print(\"contraseña correcta\")\n",
    "else:\n",
    "    print(\"contraseña incorrecta\")\n"
   ]
  },
  {
   "cell_type": "code",
   "execution_count": 10,
   "metadata": {},
   "outputs": [
    {
     "name": "stdout",
     "output_type": "stream",
     "text": [
      "Gano el usuario k\n"
     ]
    }
   ],
   "source": [
    "name_user_1 = input(\"ingrese su nombre\")\n",
    "name_user_2 = input(\"ingrese su nombre\")\n",
    "\n",
    "election_1 = input(\"piedra (pi), papel (pa), tijeras (ti)\")\n",
    "election_2 = input(\"piedra (pi), papel (pa), tijeras (ti)\")\n",
    "\n",
    "if election_1 == \"pi\" and election_2 == \"pa\":\n",
    "    print(\"Gano el usuario \" + name_user_2)\n",
    "elif election_1 == \"ti\" and election_2 == \"pi\":\n",
    "    print(\"Gano el usuario\" + name_user_2)\n",
    "elif election_1 == \"pa\" and election_2 == \"ti\":\n",
    "    print(\"Gano el usuario\" + name_user_2)\n",
    "elif election_1 == \"pa\" and election_2 == \"pa\":\n",
    "    print(\"empate\" + name_user_2)\n",
    "elif election_1 == \"pa\" and election_2 == \"pi\":\n",
    "    print(\"Gano el usuario\" + name_user_1)    \n",
    "                   \n"
   ]
  }
 ],
 "metadata": {
  "kernelspec": {
   "display_name": "Python 3",
   "language": "python",
   "name": "python3"
  },
  "language_info": {
   "codemirror_mode": {
    "name": "ipython",
    "version": 3
   },
   "file_extension": ".py",
   "mimetype": "text/x-python",
   "name": "python",
   "nbconvert_exporter": "python",
   "pygments_lexer": "ipython3",
   "version": "3.11.4"
  },
  "orig_nbformat": 4
 },
 "nbformat": 4,
 "nbformat_minor": 2
}

{
 "cells": [
  {
   "cell_type": "code",
   "execution_count": 2,
   "metadata": {},
   "outputs": [
    {
     "name": "stdout",
     "output_type": "stream",
     "text": [
      "Empate\n"
     ]
    }
   ],
   "source": [
    "name_user_1 = input(\"ingrese su nombre\")\n",
    "name_user_2 = input(\"ingrese su nombre\")\n",
    "\n",
    "election_1 = input(\"piedra (pi), papel (pa), tijeras (ti)\")\n",
    "election_2 = input(\"piedra (pi), papel (pa), tijeras (ti)\")\n",
    "\n",
    "if election_1.lower() == \"pi\" and election_2.lower() == \"pa\":\n",
    "    print(\"Gano el usuario \" + name_user_2)\n",
    "elif election_1.lower() == \"ti\" and election_2.lower() == \"pi\":\n",
    "    print(\"Gano el usuario\" + name_user_2)\n",
    "elif election_1.lower() == \"pa\" and election_2.lower() == \"ti\":\n",
    "    print(\"Gano el usuario\" + name_user_2)\n",
    "elif election_1.lower() == \"pa\" and election_2.lower() == \"pa\":\n",
    "    print(\"empate\")\n",
    "elif election_1.lower() == \"pa\" and election_2.lower() == \"pi\":\n",
    "    print(\"Gano el usuario\" + name_user_1)\n",
    "elif election_1.lower() == \"pi\" and election_2.lower() == \"ti\":\n",
    "    print(\"Gano el usuario\" + name_user_1)\n",
    "elif election_1.lower() == \"ti\" and election_2.lower() == \"pa\":\n",
    "    print(\"Gano el usuario\" + name_user_1)\n",
    "elif election_1.lower() == \"pi\" and election_2.lower() == \"pi\":\n",
    "    print(\"Empate\")\n",
    "elif election_1.lower() == \"ti\" and election_2.lower() == \"ti\":\n",
    "    print(\"Empate\")"
   ]
  },
  {
   "cell_type": "code",
   "execution_count": 9,
   "metadata": {},
   "outputs": [],
   "source": [
    "n1 = int(input(\"ingrese un numero\"))\n",
    "n2 = int(input(\"ingrese un numero\"))\n",
    "n3 = int(input(\"ingrese un numero\"))\n",
    "\n",
    "if n1 > n2:\n",
    "    if n1 > n3:\n",
    "        print (\"El mayor es \" + str(n1))\n",
    "elif n1 < n2:\n",
    "    if n2 > n3:\n",
    "        print (\"El mayor es \" + str(n2))\n",
    "    "
   ]
  },
  {
   "cell_type": "markdown",
   "metadata": {},
   "source": [
    "Listas y bucles"
   ]
  },
  {
   "cell_type": "code",
   "execution_count": 9,
   "metadata": {},
   "outputs": [
    {
     "name": "stdout",
     "output_type": "stream",
     "text": [
      "<class 'list'>\n",
      "['programar', 'estudiar', 'comer', 'limpiar', 'tomar agua']\n"
     ]
    }
   ],
   "source": [
    "tareas = [\"programar\", \"estudiar\", \"comer\", \"limpiar\"]\n",
    "print(type(tareas))\n",
    "nueva = input(\"ingrese su tarea\")\n",
    "tareas.append(nueva)\n",
    "print(tareas)"
   ]
  },
  {
   "cell_type": "code",
   "execution_count": 10,
   "metadata": {},
   "outputs": [
    {
     "name": "stdout",
     "output_type": "stream",
     "text": [
      "['estudiar', 'comer', 'limpiar', 'tomar agua']\n",
      "4\n"
     ]
    }
   ],
   "source": [
    "tareas.remove(\"programar\")\n",
    "print(tareas)\n",
    "print(len(tareas))"
   ]
  },
  {
   "cell_type": "code",
   "execution_count": 20,
   "metadata": {},
   "outputs": [
    {
     "name": "stdout",
     "output_type": "stream",
     "text": [
      "Hoy es Miercoles\n"
     ]
    }
   ],
   "source": [
    "dias = [\"Lunes\", \"Martes\", \"Miercoles\", \"Jueves\", \"Viernes\", \"Sabado\", \"Domingo\"]\n",
    "hoy = dias[2]\n",
    "#for dia in dias:\n",
    "#     if hoy == dia:\n",
    "#          print (\"Hoy es \" + hoy)\n",
    "\n",
    "for dia in range(len(dias)):\n",
    "    if hoy == dias[dia]:\n",
    "        print(\"Hoy es \" + hoy)\n",
    "\n",
    "   "
   ]
  },
  {
   "cell_type": "markdown",
   "metadata": {},
   "source": [
    "Hacer una lista que contenga cinco numeros donde le pregunten al usuario cual numero desea buscar y si esta en la lista deben mostrarlo sino..."
   ]
  },
  {
   "cell_type": "code",
   "execution_count": 60,
   "metadata": {},
   "outputs": [
    {
     "name": "stdout",
     "output_type": "stream",
     "text": [
      "Estas buscando el numero 100\n",
      "No sale el numero error error error error\n"
     ]
    }
   ],
   "source": [
    "Numeros = [80, 90, 100, 110, 120]\n",
    "user_num = int (input(\"ingrese un numero\"))\n",
    "for Numero in range(len(Numeros)):\n",
    "    if user_num == Numeros[Numero]:\n",
    "        print(\"Estas buscando el numero \" + str(user_num))\n",
    "else:\n",
    "    print(\"No sale el numero error error error error\")"
   ]
  },
  {
   "cell_type": "code",
   "execution_count": 61,
   "metadata": {},
   "outputs": [
    {
     "name": "stdout",
     "output_type": "stream",
     "text": [
      "Estas buscando a Jean\n",
      "Ese alumno no se encuentra en la clase\n"
     ]
    }
   ],
   "source": [
    "alumnos = [\"Jean\", \"Willy\", \"Adrián\", \"Juan\", \"Jesús\", \"Leo\"]\n",
    "user_option = input(\"ingrese el nombre del alumno a buscar\")\n",
    "for alumno in range(len(alumnos)):\n",
    "    if user_option == alumnos[alumno]:\n",
    "        print(\"Estas buscando a \" + str(user_option))\n",
    "else:\n",
    "    print(\"Ese alumno no se encuentra en la clase\")\n",
    "    \n",
    "\n",
    "\n"
   ]
  }
 ],
 "metadata": {
  "kernelspec": {
   "display_name": "Python 3",
   "language": "python",
   "name": "python3"
  },
  "language_info": {
   "codemirror_mode": {
    "name": "ipython",
    "version": 3
   },
   "file_extension": ".py",
   "mimetype": "text/x-python",
   "name": "python",
   "nbconvert_exporter": "python",
   "pygments_lexer": "ipython3",
   "version": "3.11.4"
  },
  "orig_nbformat": 4
 },
 "nbformat": 4,
 "nbformat_minor": 2
}
